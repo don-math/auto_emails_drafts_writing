{
 "cells": [
  {
   "cell_type": "markdown",
   "id": "dd9fe63e",
   "metadata": {},
   "source": [
    "# Configuration"
   ]
  },
  {
   "cell_type": "code",
   "execution_count": 1,
   "id": "df9a656b",
   "metadata": {},
   "outputs": [],
   "source": [
    "# put your email address here\n",
    "email_address = 'abc_xyz@gmail.com'\n",
    "\n",
    "# put your openai key here\n",
    "openai_key = 'sk-TVtpfloxUnesBlbkFJlFTIJmfJPjn311L0eLP3L5FScTUzFa'"
   ]
  },
  {
   "cell_type": "markdown",
   "id": "6fa0ed5d",
   "metadata": {},
   "source": [
    "# Make sure the Python version is below 3.11"
   ]
  },
  {
   "cell_type": "code",
   "execution_count": 2,
   "id": "796a164f",
   "metadata": {},
   "outputs": [
    {
     "name": "stdout",
     "output_type": "stream",
     "text": [
      "3.10.12 | packaged by Anaconda, Inc. | (main, Jul  5 2023, 19:01:18) [MSC v.1916 64 bit (AMD64)]\n"
     ]
    }
   ],
   "source": [
    "import sys\n",
    "print(sys.version)"
   ]
  },
  {
   "cell_type": "markdown",
   "id": "2be3c142",
   "metadata": {},
   "source": [
    "# Install and import packages"
   ]
  },
  {
   "cell_type": "code",
   "execution_count": 3,
   "id": "7b183633",
   "metadata": {},
   "outputs": [],
   "source": [
    "# for speeding execution, the below lines can be deleted after packages are installed\n",
    "!pip -q install pywin32\n",
    "!pip -q install farm-haystack==1.19.0\n",
    "!pip install -q openai"
   ]
  },
  {
   "cell_type": "code",
   "execution_count": 4,
   "id": "f92c001d",
   "metadata": {},
   "outputs": [],
   "source": [
    "import os\n",
    "import openai"
   ]
  },
  {
   "cell_type": "markdown",
   "id": "2576dd6f",
   "metadata": {},
   "source": [
    "# Log in "
   ]
  },
  {
   "cell_type": "code",
   "execution_count": 5,
   "id": "60f6f95f",
   "metadata": {},
   "outputs": [],
   "source": [
    "import win32com.client as client"
   ]
  },
  {
   "cell_type": "code",
   "execution_count": 6,
   "id": "9a5e7085",
   "metadata": {},
   "outputs": [],
   "source": [
    "outlook = client.Dispatch('Outlook.Application')"
   ]
  },
  {
   "cell_type": "code",
   "execution_count": 7,
   "id": "77a56a22",
   "metadata": {},
   "outputs": [],
   "source": [
    "namespace = outlook.GetNameSpace('MAPI')"
   ]
  },
  {
   "cell_type": "code",
   "execution_count": 8,
   "id": "eb9df761",
   "metadata": {},
   "outputs": [],
   "source": [
    "account = namespace.Folders[email_address]"
   ]
  },
  {
   "cell_type": "markdown",
   "id": "efcebfdd",
   "metadata": {},
   "source": [
    "# Get the sent emails"
   ]
  },
  {
   "cell_type": "code",
   "execution_count": 9,
   "id": "6d273918",
   "metadata": {},
   "outputs": [],
   "source": [
    "# code for real implementation\n",
    "sent = account.Folders['Sent Items']\n",
    "sent_emails = [message for message in sent.Items]"
   ]
  },
  {
   "cell_type": "code",
   "execution_count": 10,
   "id": "84f9f9fa",
   "metadata": {},
   "outputs": [],
   "source": [
    "# # for temporary use, should be deleted after real implementation\n",
    "# sent = account.Folders['Inbox']\n",
    "# sent_emails = [message for message in sent.Items]"
   ]
  },
  {
   "cell_type": "code",
   "execution_count": null,
   "id": "6e37338d",
   "metadata": {},
   "outputs": [],
   "source": [
    "for s in sent_emails:\n",
    "    print(str(s.CreationTime))\n",
    "    print(s.ConversationID)\n",
    "    print(s.Subject)"
   ]
  },
  {
   "cell_type": "markdown",
   "id": "7c2782dc",
   "metadata": {},
   "source": [
    "# Get the texts of set emails"
   ]
  },
  {
   "cell_type": "code",
   "execution_count": 12,
   "id": "4bc6eddf",
   "metadata": {},
   "outputs": [],
   "source": [
    "def remove_links(t):\n",
    "    import re\n",
    "    s = re.sub(r\"http\\S+\", \"\", t)\n",
    "    return(s)"
   ]
  },
  {
   "cell_type": "code",
   "execution_count": 13,
   "id": "14c3cc4b",
   "metadata": {},
   "outputs": [],
   "source": [
    "def remove_rn(t):\n",
    "    return t.replace('\\r\\n', '')"
   ]
  },
  {
   "cell_type": "code",
   "execution_count": 14,
   "id": "1c2cf729",
   "metadata": {},
   "outputs": [],
   "source": [
    "def text_proc(t):\n",
    "    temp = remove_links(t)\n",
    "    temp2 = remove_rn(temp)\n",
    "    return temp2"
   ]
  },
  {
   "cell_type": "code",
   "execution_count": 15,
   "id": "94cc1d98",
   "metadata": {},
   "outputs": [],
   "source": [
    "sent_emails_subjects = []\n",
    "sent_emails2 = []\n",
    "\n",
    "for s in sent_emails:\n",
    "    if s.Subject not in sent_emails_subjects:\n",
    "        sent_emails_subjects.append(s.Subject)\n",
    "        sent_emails2.append(s)    "
   ]
  },
  {
   "cell_type": "code",
   "execution_count": null,
   "id": "5e1a758b",
   "metadata": {},
   "outputs": [],
   "source": [
    "sent_emails_text = [\"Subject: \"+_.Subject +\"\\n\" +\"Body: \"+text_proc(_.Body) for _ in sent_emails2]\n",
    "sent_emails_text"
   ]
  },
  {
   "cell_type": "markdown",
   "id": "92df87fb",
   "metadata": {},
   "source": [
    "# Save into the folder"
   ]
  },
  {
   "cell_type": "code",
   "execution_count": 17,
   "id": "167e5e29",
   "metadata": {},
   "outputs": [
    {
     "data": {
      "text/plain": [
       "'C:\\\\Users\\\\Don\\\\Desktop\\\\UC Medical\\\\Project 4\\\\test'"
      ]
     },
     "execution_count": 17,
     "metadata": {},
     "output_type": "execute_result"
    }
   ],
   "source": [
    "from pathlib import Path\n",
    "doc_dir = str(Path.cwd())\n",
    "doc_dir"
   ]
  },
  {
   "cell_type": "code",
   "execution_count": 18,
   "id": "2a1454f2",
   "metadata": {},
   "outputs": [],
   "source": [
    "path = './sent_emails_text'\n",
    "\n",
    "# check whether directory already exists\n",
    "if not os.path.exists(path):\n",
    "  os.mkdir(path)"
   ]
  },
  {
   "cell_type": "code",
   "execution_count": 19,
   "id": "30138c03",
   "metadata": {},
   "outputs": [
    {
     "name": "stdout",
     "output_type": "stream",
     "text": [
      "C:\\Users\\Don\\Desktop\\UC Medical\\Project 4\\test\\sent_emails_text\n"
     ]
    }
   ],
   "source": [
    "cd sent_emails_text"
   ]
  },
  {
   "cell_type": "code",
   "execution_count": 20,
   "id": "f52e3ade",
   "metadata": {},
   "outputs": [],
   "source": [
    "# define a write text function to write the above info into texts\n",
    "def write_text(text, i):\n",
    "    # write data in a file.\n",
    "    file = open(str(i)+\".txt\",\"w\",encoding=\"utf-8\")\n",
    "    # \\n is placed to indicate EOL (End of Line)\n",
    "    file.write(text)\n",
    "    file.close() #to change file access modes"
   ]
  },
  {
   "cell_type": "code",
   "execution_count": 21,
   "id": "9f20a914",
   "metadata": {},
   "outputs": [],
   "source": [
    "for t,s in zip(sent_emails_text, sent_emails2):\n",
    "    conv_id = str(s.ConversationID)  \n",
    "    write_text(t,conv_id)"
   ]
  },
  {
   "cell_type": "code",
   "execution_count": 22,
   "id": "192e74c3",
   "metadata": {},
   "outputs": [
    {
     "name": "stdout",
     "output_type": "stream",
     "text": [
      "C:\\Users\\Don\\Desktop\\UC Medical\\Project 4\\test\n"
     ]
    }
   ],
   "source": [
    "cd .."
   ]
  },
  {
   "cell_type": "markdown",
   "id": "c9a1be8f",
   "metadata": {},
   "source": [
    "# Find all unread emails"
   ]
  },
  {
   "cell_type": "code",
   "execution_count": 23,
   "id": "17dfdfed",
   "metadata": {},
   "outputs": [],
   "source": [
    "inbox = account.Folders['Inbox']"
   ]
  },
  {
   "cell_type": "code",
   "execution_count": 24,
   "id": "057c37d3",
   "metadata": {},
   "outputs": [],
   "source": [
    "q_mails = []\n",
    "q_messages = []\n",
    "\n",
    "for message in inbox.Items:\n",
    "    # if an unread email contains ? mark, save it into the q_mails list\n",
    "#     need_reply = message.UnRead == True and \"?\" in message.Body\n",
    "    need_reply = message.UnRead == True\n",
    "    \n",
    "    if need_reply:\n",
    "        # get ID, subject and body\n",
    "        ms_id = message.ConversationID\n",
    "        ms_subject = message.Subject\n",
    "        ms_body = message.Body\n",
    "  \n",
    "        # combine the above info into one content text\n",
    "        content = \"Subject: \" + ms_subject + \" Body: \" + ms_body\n",
    "        \n",
    "        # remove unnecessary info\n",
    "        content = content.replace(\"[External Email - Use Caution] \", \"\")\n",
    "        \n",
    "        # save all the above info in one dictionary\n",
    "        q_mail = {'id':ms_id, 'subject': ms_subject, 'content':content}\n",
    "            \n",
    "        # save the mail text and message objects\n",
    "        q_mails.append(q_mail)        \n",
    "        q_messages.append(message)"
   ]
  },
  {
   "cell_type": "markdown",
   "id": "8aa2a8f6",
   "metadata": {},
   "source": [
    "# Find the most relevant previous replies of the unread emails' text"
   ]
  },
  {
   "cell_type": "code",
   "execution_count": 25,
   "id": "51cfbc0e",
   "metadata": {},
   "outputs": [
    {
     "name": "stderr",
     "output_type": "stream",
     "text": [
      "C:\\Users\\Don\\.conda\\envs\\python310\\lib\\site-packages\\tqdm\\auto.py:21: TqdmWarning: IProgress not found. Please update jupyter and ipywidgets. See https://ipywidgets.readthedocs.io/en/stable/user_install.html\n",
      "  from .autonotebook import tqdm as notebook_tqdm\n"
     ]
    }
   ],
   "source": [
    "# initiate document store\n",
    "from haystack.document_stores import InMemoryDocumentStore\n",
    "\n",
    "document_store = InMemoryDocumentStore(use_bm25=True)"
   ]
  },
  {
   "cell_type": "code",
   "execution_count": 26,
   "id": "31533452",
   "metadata": {},
   "outputs": [],
   "source": [
    "# this folder saves my previous replies\n",
    "from pathlib import Path\n",
    "doc_dir = str(Path.cwd()) + \"\\\\\" + \"sent_emails_text\"\n",
    "files_to_index = [doc_dir + \"\\\\\" + f for f in os.listdir(doc_dir)]"
   ]
  },
  {
   "cell_type": "code",
   "execution_count": null,
   "id": "de8dfe86",
   "metadata": {},
   "outputs": [],
   "source": [
    "# index files from the above files index\n",
    "from haystack.pipelines.standard_pipelines import TextIndexingPipeline\n",
    "\n",
    "indexing_pipeline = TextIndexingPipeline(document_store)\n",
    "indexing_pipeline.run_batch(file_paths=files_to_index)"
   ]
  },
  {
   "cell_type": "code",
   "execution_count": 28,
   "id": "063227cb",
   "metadata": {},
   "outputs": [],
   "source": [
    "# processing the texts in the above document store\n",
    "from haystack import Pipeline\n",
    "from haystack.nodes import TextConverter, PreProcessor\n",
    "\n",
    "indexing_pipeline = Pipeline()\n",
    "text_converter = TextConverter()\n",
    "preprocessor = PreProcessor(\n",
    "    clean_whitespace=True,\n",
    "    clean_header_footer=True,\n",
    "    clean_empty_lines=True,\n",
    "    split_by=\"word\",\n",
    "    split_length=200,\n",
    "    split_overlap=20,\n",
    "    split_respect_sentence_boundary=True,\n",
    ")"
   ]
  },
  {
   "cell_type": "code",
   "execution_count": 29,
   "id": "fd0ba690",
   "metadata": {},
   "outputs": [],
   "source": [
    "indexing_pipeline.add_node(component=text_converter, name=\"TextConverter\", inputs=[\"File\"])\n",
    "indexing_pipeline.add_node(component=preprocessor, name=\"PreProcessor\", inputs=[\"TextConverter\"])\n",
    "indexing_pipeline.add_node(component=document_store, name=\"DocumentStore\", inputs=[\"PreProcessor\"])"
   ]
  },
  {
   "cell_type": "code",
   "execution_count": 30,
   "id": "f9edbd56",
   "metadata": {},
   "outputs": [],
   "source": [
    "# create a retriever\n",
    "from haystack.nodes import BM25Retriever\n",
    "\n",
    "retriever = BM25Retriever(document_store=document_store)"
   ]
  },
  {
   "cell_type": "code",
   "execution_count": 31,
   "id": "42b6228c",
   "metadata": {},
   "outputs": [],
   "source": [
    "querying_pipeline = Pipeline()\n",
    "querying_pipeline.add_node(component=retriever, name=\"Retriever\", inputs=[\"Query\"])"
   ]
  },
  {
   "cell_type": "code",
   "execution_count": 32,
   "id": "ce0c019c",
   "metadata": {},
   "outputs": [],
   "source": [
    "# define a get_inquiry function to get inquiries\n",
    "def get_inquiry(q_mails):   \n",
    "    \n",
    "    for i in range(len(q_mails)):\n",
    "        # get question\n",
    "        question = q_mails[i]['content']\n",
    "        \n",
    "        # get 4 relevant documents\n",
    "        prediction = querying_pipeline.run(query=question, params={\"Retriever\": {\"top_k\": 4}})\n",
    "        \n",
    "        # create the background from relevant files\n",
    "        background = prediction['documents'][0].content + prediction['documents'][1].content + prediction['documents'][2].content +prediction['documents'][3].content\n",
    "        \n",
    "        # generate inquiries (to-be-sent to OpenAI)\n",
    "        inquiry = \"What would you reply to the following email inquiry?\\n\" + question +\"\\nGiven the background knowledge is: \" + background\n",
    "    \n",
    "        # append inquiries to q_mails\n",
    "        q_mails[i]['inquiry'] = inquiry"
   ]
  },
  {
   "cell_type": "code",
   "execution_count": 33,
   "id": "0640cebc",
   "metadata": {},
   "outputs": [],
   "source": [
    "get_inquiry(q_mails)"
   ]
  },
  {
   "cell_type": "code",
   "execution_count": null,
   "id": "d43a61c7",
   "metadata": {},
   "outputs": [],
   "source": [
    "q_mails"
   ]
  },
  {
   "cell_type": "markdown",
   "id": "1d0bd173",
   "metadata": {},
   "source": [
    "# Send the inquiry email and relevant replies to OpenAI for generating responses"
   ]
  },
  {
   "cell_type": "code",
   "execution_count": 35,
   "id": "3b72ec4a",
   "metadata": {},
   "outputs": [],
   "source": [
    "# log in OpenAI with the key\n",
    "openai.api_key = openai_key"
   ]
  },
  {
   "cell_type": "code",
   "execution_count": 36,
   "id": "152e32c0",
   "metadata": {},
   "outputs": [],
   "source": [
    "def get_draft_text(q_mails):\n",
    "    for i in range(len(q_mails)):\n",
    "        \n",
    "        # get inquiry from q_mails\n",
    "        inquiry = q_mails[i]['inquiry']\n",
    "        \n",
    "        # sent inquiry to OpenAI for generating reponse texts\n",
    "        response = openai.ChatCompletion.create(\n",
    "            model=\"gpt-3.5-turbo\",\n",
    "            messages=[\n",
    "                  {\"role\": \"system\", \"content\": \"You are a helpful assistant for writing emails.\"},\n",
    "                  {\"role\": \"user\", \"content\": inquiry}\n",
    "              ]\n",
    "        )\n",
    "        \n",
    "        # get draft text\n",
    "        draft_text = response['choices'][0]['message']['content']\n",
    "\n",
    "        # save draft text in q_mails       \n",
    "        q_mails[i]['draft_text'] = draft_text"
   ]
  },
  {
   "cell_type": "code",
   "execution_count": 37,
   "id": "f85c6dce",
   "metadata": {},
   "outputs": [],
   "source": [
    "get_draft_text(q_mails)"
   ]
  },
  {
   "cell_type": "code",
   "execution_count": null,
   "id": "742445c9",
   "metadata": {},
   "outputs": [],
   "source": [
    "q_mails"
   ]
  },
  {
   "cell_type": "markdown",
   "id": "7dcfc8cd",
   "metadata": {},
   "source": [
    "# Save the responses in the drafts"
   ]
  },
  {
   "cell_type": "code",
   "execution_count": 39,
   "id": "a1695334",
   "metadata": {},
   "outputs": [],
   "source": [
    "# iterate over the q_mail and q_message to generate replies in outlook\n",
    "for q_mail, q_message in zip(q_mails,q_messages):   \n",
    "    \n",
    "    message_id = q_message.ConversationID\n",
    "        \n",
    "    # create a reply email object\n",
    "    reply = q_message.Reply()\n",
    "    # write the reply body\n",
    "    reply.Body = q_mail['draft_text']\n",
    "    # save the reply in the drafts\n",
    "    reply.Save()      "
   ]
  },
  {
   "cell_type": "code",
   "execution_count": null,
   "id": "aa77f9a9",
   "metadata": {},
   "outputs": [],
   "source": []
  }
 ],
 "metadata": {
  "kernelspec": {
   "display_name": "Python 3 (ipykernel)",
   "language": "python",
   "name": "python3"
  },
  "language_info": {
   "codemirror_mode": {
    "name": "ipython",
    "version": 3
   },
   "file_extension": ".py",
   "mimetype": "text/x-python",
   "name": "python",
   "nbconvert_exporter": "python",
   "pygments_lexer": "ipython3",
   "version": "3.10.12"
  }
 },
 "nbformat": 4,
 "nbformat_minor": 5
}
